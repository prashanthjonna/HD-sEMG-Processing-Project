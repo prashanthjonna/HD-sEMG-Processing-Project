{
 "cells": [
  {
   "cell_type": "code",
   "execution_count": 3,
   "id": "71389e9d",
   "metadata": {},
   "outputs": [],
   "source": [
    "import os\n",
    "import csv\n",
    "\n",
    "# Function to get the filenames containing specific keywords\n",
    "def get_filenames_with_keywords(folder_path, keywords):\n",
    "    filenames = []\n",
    "    for filename in os.listdir(folder_path):\n",
    "        if any(keyword in filename for keyword in keywords):\n",
    "            filenames.append(filename)\n",
    "    return sorted(filenames)\n"
   ]
  },
  {
   "cell_type": "code",
   "execution_count": 4,
   "id": "812865c2",
   "metadata": {},
   "outputs": [],
   "source": [
    "# Define the folder path and keywords to filter filenames\n",
    "folder_path = \"EMG_RMS_Data\"\n",
    "keywords = [\"60\", \"90\", \"120\"]\n",
    "\n",
    "# Get the filenames matching the keywords\n",
    "matching_filenames = get_filenames_with_keywords(folder_path, keywords)\n",
    "\n",
    "# Define the CSV file and column labels\n",
    "csv_filename = \"Non_Functional_Indexes.csv\"\n",
    "columns = [\"Filename\", \"Extension\", \"Flexion\"]\n",
    "\n",
    "# Delete the file if it already exists\n",
    "if os.path.exists(csv_filename):\n",
    "    os.remove(csv_filename)\n",
    "    \n",
    "# Check if the file exists; if not, create it and write the column labels\n",
    "if not os.path.exists(csv_filename):\n",
    "    with open(csv_filename, mode='w', newline='') as csv_file:\n",
    "        writer = csv.writer(csv_file)\n",
    "        writer.writerow(columns)\n",
    "\n",
    "# Append the matching filenames to the CSV file\n",
    "with open(csv_filename, mode='a', newline='') as csv_file:\n",
    "    writer = csv.writer(csv_file)\n",
    "    for filename in matching_filenames:\n",
    "        writer.writerow([filename] + [\"\"] * (len(columns) - 1))\n",
    "        "
   ]
  },
  {
   "cell_type": "code",
   "execution_count": null,
   "id": "2f0a2a7b",
   "metadata": {},
   "outputs": [],
   "source": []
  }
 ],
 "metadata": {
  "kernelspec": {
   "display_name": "Python 3 (ipykernel)",
   "language": "python",
   "name": "python3"
  },
  "language_info": {
   "codemirror_mode": {
    "name": "ipython",
    "version": 3
   },
   "file_extension": ".py",
   "mimetype": "text/x-python",
   "name": "python",
   "nbconvert_exporter": "python",
   "pygments_lexer": "ipython3",
   "version": "3.9.12"
  }
 },
 "nbformat": 4,
 "nbformat_minor": 5
}
